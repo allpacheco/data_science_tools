{
 "cells": [
  {
   "cell_type": "markdown",
   "id": "30d635b3-cbc3-4fde-8ad7-cae2616db3d8",
   "metadata": {},
   "source": [
    "# Data Science Tools and Ecosystem"
   ]
  },
  {
   "cell_type": "markdown",
   "id": "c98d0f2b-6658-4b75-ba36-a2a46528f05f",
   "metadata": {
    "tags": []
   },
   "source": [
    "Please find this notebook at: [my GitHub repo](https://github.com/allpacheco/first_repo.git)"
   ]
  },
  {
   "cell_type": "markdown",
   "id": "34893c44-ef98-4c13-b3e7-511c2f0ca739",
   "metadata": {},
   "source": [
    "In this notebook, Data Science Tools and Ecosystem are summarized."
   ]
  },
  {
   "cell_type": "markdown",
   "id": "7c0a4e29-ee2f-4755-88d4-e26faecec6cc",
   "metadata": {},
   "source": [
    "**Objectives:**\n",
    "- List of popular languages for Data Science\n",
    "- List of popular libraries for Data Science\n",
    "- List of popular environments for Data Science\n",
    "- Evaluating basic arithmetic expressions"
   ]
  },
  {
   "cell_type": "markdown",
   "id": "2f98603c-cdb0-47b3-8710-b14619d2e261",
   "metadata": {},
   "source": [
    "Some of the popular languages that Data Scientists use are:\n",
    "\n",
    "1. Python\n",
    "2. C++\n",
    "3. R\n",
    "4. Scala\n",
    "5. Java\n",
    "6. C#\n",
    "7. Julia"
   ]
  },
  {
   "cell_type": "markdown",
   "id": "25073d9e-b56b-455c-bc99-655b6487f03a",
   "metadata": {},
   "source": [
    "Some of the commonly used **libraries** used by Data Scientists include:\n",
    "\n",
    "1. Pandas\n",
    "2. Matplotlib\n",
    "3. NumPy\n",
    "4. Scikit-learn\n"
   ]
  },
  {
   "cell_type": "markdown",
   "id": "66735d11-f774-419d-a2cc-1ba79fc97d76",
   "metadata": {},
   "source": [
    "| Data Science Tools |\n",
    "|------------------- |\n",
    "| JupyterLite |\n",
    "| VS Code |\n",
    "| Anaconda |"
   ]
  },
  {
   "cell_type": "markdown",
   "id": "b3f0c784-98da-436d-b5ea-a0288332132a",
   "metadata": {},
   "source": [
    "### Below are a few examples of evaluating arithmetic expressions in Python."
   ]
  },
  {
   "cell_type": "code",
   "execution_count": 1,
   "id": "53357366-a231-4597-9ca0-880f5ad36c5b",
   "metadata": {
    "tags": []
   },
   "outputs": [
    {
     "data": {
      "text/plain": [
       "17"
      ]
     },
     "execution_count": 1,
     "metadata": {},
     "output_type": "execute_result"
    }
   ],
   "source": [
    "# This is a simple arithmetic expression to multiply then add integers.\n",
    "\n",
    "(3*4)+5"
   ]
  },
  {
   "cell_type": "code",
   "execution_count": 2,
   "id": "d36f4c16-adaf-47ba-8bef-ba5a13c59950",
   "metadata": {
    "tags": []
   },
   "outputs": [
    {
     "data": {
      "text/plain": [
       "3.3333333333333335"
      ]
     },
     "execution_count": 2,
     "metadata": {},
     "output_type": "execute_result"
    }
   ],
   "source": [
    "# This will convert 200 minutes to hours by dividing by 60.\n",
    "\n",
    "200/60"
   ]
  },
  {
   "cell_type": "markdown",
   "id": "1f8b846c-2dbf-4f92-9a80-9808fbdc2513",
   "metadata": {},
   "source": [
    "## Author\n",
    "Allan Pacheco Gonçalves"
   ]
  },
  {
   "cell_type": "code",
   "execution_count": null,
   "id": "cf7b6934-ebaf-4e59-881f-101b6b1dbf8d",
   "metadata": {},
   "outputs": [],
   "source": []
  }
 ],
 "metadata": {
  "kernelspec": {
   "display_name": "Python",
   "language": "python",
   "name": "conda-env-python-py"
  },
  "language_info": {
   "codemirror_mode": {
    "name": "ipython",
    "version": 3
   },
   "file_extension": ".py",
   "mimetype": "text/x-python",
   "name": "python",
   "nbconvert_exporter": "python",
   "pygments_lexer": "ipython3",
   "version": "3.7.12"
  }
 },
 "nbformat": 4,
 "nbformat_minor": 5
}
